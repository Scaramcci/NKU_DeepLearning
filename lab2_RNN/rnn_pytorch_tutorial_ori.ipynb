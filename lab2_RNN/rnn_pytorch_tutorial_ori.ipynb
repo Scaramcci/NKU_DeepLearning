{
 "cells": [
  {
   "cell_type": "markdown",
   "id": "b0386667",
   "metadata": {},
   "source": [
    "# RNN Tutorial"
   ]
  },
  {
   "cell_type": "markdown",
   "id": "888043a3",
   "metadata": {},
   "source": [
    "Included in the data/names directory are 18 text files named as “[Language].txt”. Each file contains a bunch of names, one name per line, mostly romanized (but we still need to convert from Unicode to ASCII).\n",
    "\n",
    "We’ll end up with a dictionary of lists of names per language, {language: [names ...]}. The generic variables “category” and “line” (for language and name in our case) are used for later extensibility."
   ]
  },
  {
   "cell_type": "code",
   "execution_count": 1,
   "id": "b44343fa",
   "metadata": {
    "scrolled": true
   },
   "outputs": [
    {
     "name": "stdout",
     "output_type": "stream",
     "text": [
      "[]\n",
      "Slusarski\n"
     ]
    }
   ],
   "source": [
    "from __future__ import unicode_literals, print_function, division\n",
    "from io import open\n",
    "import glob\n",
    "import os\n",
    "\n",
    "def findFiles(path): return glob.glob(path)\n",
    "\n",
    "print(findFiles('../data/names/*.txt'))\n",
    "\n",
    "import unicodedata\n",
    "import string\n",
    "\n",
    "all_letters = string.ascii_letters + \" .,;'\"\n",
    "n_letters = len(all_letters)\n",
    "\n",
    "# Turn a Unicode string to plain ASCII, thanks to https://stackoverflow.com/a/518232/2809427\n",
    "def unicodeToAscii(s):\n",
    "    return ''.join(\n",
    "        c for c in unicodedata.normalize('NFD', s)\n",
    "        if unicodedata.category(c) != 'Mn'\n",
    "        and c in all_letters\n",
    "    )\n",
    "\n",
    "print(unicodeToAscii('Ślusàrski'))\n",
    "\n",
    "# Build the category_lines dictionary, a list of names per language\n",
    "category_lines = {}\n",
    "all_categories = []\n",
    "\n",
    "# Read a file and split into lines\n",
    "def readLines(filename):\n",
    "    lines = open(filename, encoding='utf-8').read().strip().split('\\n')\n",
    "    return [unicodeToAscii(line) for line in lines]\n",
    "\n",
    "for filename in findFiles('./data/names/*.txt'):\n",
    "    category = os.path.splitext(os.path.basename(filename))[0]\n",
    "    all_categories.append(category)\n",
    "    lines = readLines(filename)\n",
    "    category_lines[category] = lines\n",
    "\n",
    "n_categories = len(all_categories)"
   ]
  },
  {
   "cell_type": "markdown",
   "id": "e58f58a0",
   "metadata": {},
   "source": [
    "Now we have category_lines, a dictionary mapping each category (language) to a list of lines (names). We also kept track of all_categories (just a list of languages) and n_categories for later reference."
   ]
  },
  {
   "cell_type": "code",
   "execution_count": 2,
   "id": "03a992d9",
   "metadata": {},
   "outputs": [
    {
     "name": "stdout",
     "output_type": "stream",
     "text": [
      "['Abandonato', 'Abatangelo', 'Abatantuono', 'Abate', 'Abategiovanni']\n"
     ]
    }
   ],
   "source": [
    "print(category_lines['Italian'][:5])"
   ]
  },
  {
   "cell_type": "markdown",
   "id": "6c219cf0",
   "metadata": {},
   "source": [
    "### Turning Names into Tensors\n",
    "Now that we have all the names organized, we need to turn them into Tensors to make any use of them.\n",
    "\n",
    "To represent a single letter, we use a “one-hot vector” of size <1 x n_letters>. A one-hot vector is filled with 0s except for a 1 at index of the current letter, e.g. \"b\" = <0 1 0 0 0 ...>.\n",
    "\n",
    "To make a word we join a bunch of those into a 2D matrix <line_length x 1 x n_letters>.\n",
    "\n",
    "That extra 1 dimension is because PyTorch assumes everything is in batches - we’re just using a batch size of 1 here."
   ]
  },
  {
   "cell_type": "code",
   "execution_count": 3,
   "id": "c479aae7",
   "metadata": {
    "scrolled": true
   },
   "outputs": [
    {
     "name": "stdout",
     "output_type": "stream",
     "text": [
      "tensor([[0., 0., 0., 0., 0., 0., 0., 0., 0., 0., 0., 0., 0., 0., 0., 0., 0., 0.,\n",
      "         0., 0., 0., 0., 0., 0., 0., 0., 0., 0., 0., 0., 0., 0., 0., 0., 0., 1.,\n",
      "         0., 0., 0., 0., 0., 0., 0., 0., 0., 0., 0., 0., 0., 0., 0., 0., 0., 0.,\n",
      "         0., 0., 0.]])\n",
      "torch.Size([5, 1, 57])\n"
     ]
    }
   ],
   "source": [
    "import torch\n",
    "\n",
    "# Find letter index from all_letters, e.g. \"a\" = 0\n",
    "def letterToIndex(letter):\n",
    "    return all_letters.find(letter)\n",
    "\n",
    "# Just for demonstration, turn a letter into a <1 x n_letters> Tensor\n",
    "def letterToTensor(letter):\n",
    "    tensor = torch.zeros(1, n_letters)\n",
    "    tensor[0][letterToIndex(letter)] = 1\n",
    "    return tensor\n",
    "\n",
    "# Turn a line into a <line_length x 1 x n_letters>,\n",
    "# or an array of one-hot letter vectors\n",
    "def lineToTensor(line):\n",
    "    tensor = torch.zeros(len(line), 1, n_letters)\n",
    "    for li, letter in enumerate(line):\n",
    "        tensor[li][0][letterToIndex(letter)] = 1\n",
    "    return tensor\n",
    "\n",
    "print(letterToTensor('J'))\n",
    "\n",
    "print(lineToTensor('Jones').size())"
   ]
  },
  {
   "cell_type": "markdown",
   "id": "8a979493",
   "metadata": {},
   "source": [
    "### Creating the Network\n",
    "Before autograd, creating a recurrent neural network in Torch involved cloning the parameters of a layer over several timesteps. The layers held hidden state and gradients which are now entirely handled by the graph itself. This means you can implement a RNN in a very “pure” way, as regular feed-forward layers.\n",
    "\n",
    "This RNN module (mostly copied from the PyTorch for Torch users tutorial) is just 2 linear layers which operate on an input and hidden state, with a LogSoftmax layer after the output."
   ]
  },
  {
   "attachments": {
    "rnn.png": {
     "image/png": "[encoded data removed]"
    }
   },
   "cell_type": "markdown",
   "id": "a5802423",
   "metadata": {},
   "source": [
    "![rnn.png](attachment:rnn.png)"
   ]
  },
  {
   "cell_type": "code",
   "execution_count": 4,
   "id": "cc618041",
   "metadata": {},
   "outputs": [],
   "source": [
    "import torch.nn as nn\n",
    "\n",
    "class RNN(nn.Module):\n",
    "    def __init__(self, input_size, hidden_size, output_size):\n",
    "        super(RNN, self).__init__()\n",
    "\n",
    "        self.hidden_size = hidden_size\n",
    "\n",
    "        self.i2h = nn.Linear(input_size + hidden_size, hidden_size)\n",
    "        self.i2o = nn.Linear(input_size + hidden_size, output_size)\n",
    "        self.softmax = nn.LogSoftmax(dim=1)\n",
    "\n",
    "    def forward(self, input, hidden):\n",
    "        combined = torch.cat((input, hidden), 1)\n",
    "        hidden = self.i2h(combined)\n",
    "        output = self.i2o(combined)\n",
    "        output = self.softmax(output)\n",
    "        return output, hidden\n",
    "\n",
    "    def initHidden(self):\n",
    "        return torch.zeros(1, self.hidden_size)\n",
    "\n",
    "n_hidden = 128\n",
    "rnn = RNN(n_letters, n_hidden, n_categories)"
   ]
  },
  {
   "cell_type": "code",
   "execution_count": 18,
   "id": "2a7e8a7d",
   "metadata": {},
   "outputs": [
    {
     "data": {
      "text/plain": [
       "'rnn_structure.png'"
      ]
     },
     "execution_count": 18,
     "metadata": {},
     "output_type": "execute_result"
    }
   ],
   "source": [
    "#网络结构\n",
    "# 导入必要的库\n",
    "from torchviz import make_dot\n",
    "from torchsummary import summary\n",
    "import torch\n",
    "\n",
    "# 方法1: 使用torchviz生成RNN网络结构图\n",
    "input_example = torch.zeros(1, n_letters)  # 创建一个示例输入\n",
    "hidden = torch.zeros(1, n_hidden)  # 创建一个示例隐藏状态\n",
    "output, next_hidden = rnn(input_example, hidden)  # 前向传播\n",
    "\n",
    "# 生成计算图并保存为PNG\n",
    "dot = make_dot(output, params=dict(rnn.named_parameters()))\n",
    "dot.render(\"./rnn_structure\", format=\"png\")\n",
    "\n"
   ]
  },
  {
   "cell_type": "markdown",
   "id": "2d5825cc",
   "metadata": {},
   "source": [
    "LSTM模型实现"
   ]
  },
  {
   "cell_type": "code",
   "execution_count": null,
   "id": "e5f825de",
   "metadata": {},
   "outputs": [],
   "source": [
    "import torch\n",
    "import torch.nn as nn\n",
    "\n",
    "class LSTM(nn.Module):\n",
    "    def __init__(self, input_size, hidden_size, output_size):\n",
    "        super(LSTM, self).__init__()\n",
    "        \n",
    "        self.hidden_size = hidden_size\n",
    "        \n",
    "        # 输入门组件\n",
    "        self.input_gate = nn.Linear(input_size + hidden_size, hidden_size)\n",
    "        # 遗忘门组件\n",
    "        self.forget_gate = nn.Linear(input_size + hidden_size, hidden_size)\n",
    "        # 输出门组件\n",
    "        self.output_gate = nn.Linear(input_size + hidden_size, hidden_size)\n",
    "        # 单元状态组件\n",
    "        self.cell_gate = nn.Linear(input_size + hidden_size, hidden_size)\n",
    "        \n",
    "        # 输出层\n",
    "        self.output_layer = nn.Linear(hidden_size, output_size)\n",
    "        self.softmax = nn.LogSoftmax(dim=1)\n",
    "        \n",
    "    def forward(self, input, hidden_state):\n",
    "        h, c = hidden_state\n",
    "        \n",
    "        # 合并输入和隐藏状态\n",
    "        combined = torch.cat((input, h), 1)\n",
    "        \n",
    "        # 计算各个门的值\n",
    "        i = torch.sigmoid(self.input_gate(combined))\n",
    "        f = torch.sigmoid(self.forget_gate(combined))\n",
    "        o = torch.sigmoid(self.output_gate(combined))\n",
    "        g = torch.tanh(self.cell_gate(combined))\n",
    "        \n",
    "        # 更新单元状态和隐藏状态\n",
    "        c_next = f * c + i * g\n",
    "        h_next = o * torch.tanh(c_next)\n",
    "        \n",
    "        # 计算输出\n",
    "        output = self.output_layer(h_next)\n",
    "        output = self.softmax(output)\n",
    "        \n",
    "        return output, (h_next, c_next)\n",
    "    \n",
    "    def initHidden(self):\n",
    "        # 返回隐藏状态和单元状态\n",
    "        return (torch.zeros(1, self.hidden_size),\n",
    "                torch.zeros(1, self.hidden_size))\n",
    "\n",
    "# 使用示例\n",
    "n_hidden = 128\n",
    "lstm = LSTM(n_letters, n_hidden, n_categories)"
   ]
  },
  {
   "cell_type": "markdown",
   "id": "eff8b48b",
   "metadata": {},
   "source": [
    "GRU模型实现"
   ]
  },
  {
   "cell_type": "code",
   "execution_count": null,
   "id": "64e6417a",
   "metadata": {},
   "outputs": [],
   "source": [
    "import torch\n",
    "import torch.nn as nn\n",
    "\n",
    "class GRU(nn.Module):\n",
    "    def __init__(self, input_size, hidden_size, output_size):\n",
    "        super(GRU, self).__init__()\n",
    "        \n",
    "        self.hidden_size = hidden_size\n",
    "        \n",
    "        # 重置门组件\n",
    "        self.reset_gate = nn.Linear(input_size + hidden_size, hidden_size)\n",
    "        # 更新门组件\n",
    "        self.update_gate = nn.Linear(input_size + hidden_size, hidden_size)\n",
    "        # 候选隐藏状态组件\n",
    "        self.h_tilde = nn.Linear(input_size + hidden_size, hidden_size)\n",
    "        \n",
    "        # 输出层\n",
    "        self.output_layer = nn.Linear(hidden_size, output_size)\n",
    "        self.softmax = nn.LogSoftmax(dim=1)\n",
    "        \n",
    "    def forward(self, input, hidden):\n",
    "        # 合并输入和隐藏状态\n",
    "        combined = torch.cat((input, hidden), 1)\n",
    "        \n",
    "        # 计算门的值\n",
    "        r = torch.sigmoid(self.reset_gate(combined))\n",
    "        z = torch.sigmoid(self.update_gate(combined))\n",
    "        \n",
    "        # 计算候选隐藏状态\n",
    "        combined_reset = torch.cat((input, r * hidden), 1)\n",
    "        h_tilde = torch.tanh(self.h_tilde(combined_reset))\n",
    "        \n",
    "        # 更新隐藏状态\n",
    "        h_next = (1 - z) * hidden + z * h_tilde\n",
    "        \n",
    "        # 计算输出\n",
    "        output = self.output_layer(h_next)\n",
    "        output = self.softmax(output)\n",
    "        \n",
    "        return output, h_next\n",
    "    \n",
    "    def initHidden(self):\n",
    "        return torch.zeros(1, self.hidden_size)\n",
    "\n",
    "# 使用示例\n",
    "n_hidden = 128\n",
    "gru = GRU(n_letters, n_hidden, n_categories)"
   ]
  },
  {
   "cell_type": "markdown",
   "id": "9e1fa5ee",
   "metadata": {},
   "source": [
    "To run a step of this network we need to pass an input (in our case, the Tensor for the current letter) and a previous hidden state (which we initialize as zeros at first). We’ll get back the output (probability of each language) and a next hidden state (which we keep for the next step)."
   ]
  },
  {
   "cell_type": "code",
   "execution_count": 5,
   "id": "b4b9eecb",
   "metadata": {},
   "outputs": [
    {
     "name": "stdout",
     "output_type": "stream",
     "text": [
      "torch.Size([1, 57])\n"
     ]
    }
   ],
   "source": [
    "input = letterToTensor('A')\n",
    "print(input.size())\n",
    "hidden = torch.zeros(1, n_hidden)\n",
    "\n",
    "# h, c = rnn.initHidden()\n",
    "# output = rnn(input.unsqueeze(1), h, c)\n",
    "\n",
    "hidden = rnn.initHidden()               # 只拿 1 个张量\n",
    "output, next_hidden = rnn(input, hidden)"
   ]
  },
  {
   "cell_type": "markdown",
   "id": "eb17c8f1",
   "metadata": {},
   "source": [
    "For the sake of efficiency we don’t want to be creating a new Tensor for every step, so we will use lineToTensor instead of letterToTensor and use slices. This could be further optimized by pre-computing batches of Tensors."
   ]
  },
  {
   "cell_type": "code",
   "execution_count": 6,
   "id": "b5c2d9ad",
   "metadata": {},
   "outputs": [
    {
     "name": "stdout",
     "output_type": "stream",
     "text": [
      "tensor([[0.0507, 0.0582, 0.0536, 0.0562, 0.0513, 0.0596, 0.0578, 0.0549, 0.0539,\n",
      "         0.0570, 0.0545, 0.0521, 0.0582, 0.0617, 0.0590, 0.0536, 0.0556, 0.0522]],\n",
      "       grad_fn=<ExpBackward0>)\n"
     ]
    }
   ],
   "source": [
    "# input = lineToTensor('Albert')\n",
    "# print(input.size())\n",
    "# hidden = torch.zeros(1, n_hidden)\n",
    "\n",
    "# h, c = rnn.initHidden()\n",
    "# output, h, c = rnn(input, h, c)\n",
    "\n",
    "# print(torch.exp(output))\n",
    "input = lineToTensor(\"Albert\")        # [6, 1, 57]\n",
    "hidden = rnn.initHidden()             # 只要 h\n",
    "\n",
    "for i in range(input.size(0)):        # 按时间步送进去\n",
    "    out, hidden = rnn(input[i], hidden)\n",
    "\n",
    "print(torch.exp(out))                 # 最后一个时间步的 softmax 概率"
   ]
  },
  {
   "cell_type": "markdown",
   "id": "7cf3d70c",
   "metadata": {},
   "source": [
    "As you can see the output is a <1 x n_categories> Tensor, where every item is the likelihood of that category (higher is more likely)."
   ]
  },
  {
   "cell_type": "markdown",
   "id": "5b07c378",
   "metadata": {},
   "source": [
    "### Preparing for Training\n",
    "Before going into training we should make a few helper functions. The first is to interpret the output of the network, which we know to be a likelihood of each category. We can use Tensor.topk to get the index of the greatest value:"
   ]
  },
  {
   "cell_type": "code",
   "execution_count": 7,
   "id": "0fa90972",
   "metadata": {},
   "outputs": [
    {
     "name": "stdout",
     "output_type": "stream",
     "text": [
      "('Portuguese', 13)\n"
     ]
    }
   ],
   "source": [
    "def categoryFromOutput(output):\n",
    "    top_n, top_i = output.topk(1)\n",
    "    category_i = top_i[0].item()\n",
    "    return all_categories[category_i], category_i\n",
    "\n",
    "print(categoryFromOutput(output))"
   ]
  },
  {
   "cell_type": "markdown",
   "id": "627e3f73",
   "metadata": {},
   "source": [
    "We will also want a quick way to get a training example (a name and its language):"
   ]
  },
  {
   "cell_type": "code",
   "execution_count": 21,
   "id": "2c3ee352",
   "metadata": {},
   "outputs": [
    {
     "name": "stdout",
     "output_type": "stream",
     "text": [
      "category = Korean / line = Shon\n",
      "category = Scottish / line = Ferguson\n",
      "category = French / line = Samson\n",
      "category = Italian / line = Natale\n",
      "category = Dutch / line = Aart\n",
      "category = Irish / line = Adam\n",
      "category = Dutch / line = Pander\n",
      "category = French / line = Coupe\n",
      "category = Scottish / line = Marshall\n",
      "category = Spanish / line = Gallo\n"
     ]
    }
   ],
   "source": [
    "import random\n",
    "\n",
    "def randomChoice(l):\n",
    "    return l[random.randint(0, len(l) - 1)]\n",
    "\n",
    "def randomTrainingExample():\n",
    "    category = randomChoice(all_categories)\n",
    "    line = randomChoice(category_lines[category])\n",
    "    category_tensor = torch.tensor([all_categories.index(category)], dtype=torch.long)\n",
    "    line_tensor = lineToTensor(line)\n",
    "    return category, line, category_tensor, line_tensor\n",
    "\n",
    "for i in range(10):\n",
    "    category, line, category_tensor, line_tensor = randomTrainingExample()\n",
    "    print('category =', category, '/ line =', line)"
   ]
  },
  {
   "cell_type": "markdown",
   "id": "c40c4996",
   "metadata": {},
   "source": [
    "### Training the Network\n",
    "Now all it takes to train this network is show it a bunch of examples, have it make guesses, and tell it if it’s wrong.\n",
    "\n",
    "For the loss function nn.NLLLoss is appropriate, since the last layer of the RNN is nn.LogSoftmax."
   ]
  },
  {
   "cell_type": "code",
   "execution_count": 20,
   "id": "122bdeff",
   "metadata": {},
   "outputs": [],
   "source": [
    "criterion = nn.NLLLoss()"
   ]
  },
  {
   "cell_type": "markdown",
   "id": "e304bb71",
   "metadata": {},
   "source": [
    "Each loop of training will:\n",
    "\n",
    "- Create input and target tensors\n",
    "- Create a zeroed initial hidden state\n",
    "- Read each letter in and keep hidden state for next letter\n",
    "- Compare final output to target\n",
    "- Back-propagate\n",
    "- Return the output and loss"
   ]
  },
  {
   "cell_type": "code",
   "execution_count": 10,
   "id": "602ea715",
   "metadata": {},
   "outputs": [],
   "source": [
    "learning_rate = 0.005 # If you set this too high, it might explode. If too low, it might not learn\n",
    "\n",
    "def train(category_tensor, line_tensor):\n",
    "    hidden = rnn.initHidden()\n",
    "\n",
    "    rnn.zero_grad()\n",
    "\n",
    "#     print(line_tensor.size())\n",
    "#     for i in range(line_tensor.size()[0]):\n",
    "#         output, hidden = rnn(line_tensor[i], hidden)\n",
    "    for i in range(line_tensor.size(0)):\n",
    "        output, hidden = rnn(line_tensor[i], hidden)\n",
    "\n",
    "    loss = criterion(output, category_tensor)\n",
    "    loss.backward()\n",
    "\n",
    "    # Add parameters' gradients to their values, multiplied by learning rate\n",
    "    for p in rnn.parameters():\n",
    "        p.data.add_(p.grad.data, alpha=-learning_rate)\n",
    "\n",
    "    return output, loss.item()"
   ]
  },
  {
   "cell_type": "markdown",
   "id": "eed19e81",
   "metadata": {},
   "source": [
    "Now we just have to run that with a bunch of examples. Since the train function returns both the output and loss we can print its guesses and also keep track of loss for plotting. Since there are 1000s of examples we print only every print_every examples, and take an average of the loss."
   ]
  },
  {
   "cell_type": "code",
   "execution_count": null,
   "id": "e0dfe2c3",
   "metadata": {},
   "outputs": [
    {
     "name": "stdout",
     "output_type": "stream",
     "text": [
      "训练集大小: 1998\n",
      "验证集大小: 18076\n",
      "迭代 1000 1.00% (0m 0s) 损失: 0.4437 Kumiega / Polish ✓\n",
      "训练准确率: 0.6690, 验证准确率: 0.5750\n",
      "迭代 2000 2.00% (0m 0s) 损失: 1.8513 Close / Scottish ✗ (Greek)\n",
      "训练准确率: 0.7460, 验证准确率: 0.5350\n",
      "迭代 3000 3.00% (0m 1s) 损失: 0.0224 Toloni / Italian ✓\n",
      "训练准确率: 0.7870, 验证准确率: 0.5060\n",
      "迭代 4000 4.00% (0m 1s) 损失: 0.1316 Casales / Spanish ✓\n",
      "训练准确率: 0.7920, 验证准确率: 0.4660\n",
      "迭代 5000 5.00% (0m 2s) 损失: 0.6423 Esparza / Spanish ✓\n",
      "训练准确率: 0.7560, 验证准确率: 0.4550\n",
      "迭代 6000 6.00% (0m 2s) 损失: 0.0753 Segawa / Japanese ✓\n",
      "训练准确率: 0.7870, 验证准确率: 0.3780\n",
      "迭代 7000 7.00% (0m 3s) 损失: 0.6082 Gomolka / Polish ✓\n",
      "训练准确率: 0.8020, 验证准确率: 0.4320\n",
      "迭代 8000 8.00% (0m 3s) 损失: 0.3793 Skala / Polish ✓\n",
      "训练准确率: 0.8350, 验证准确率: 0.4480\n",
      "迭代 9000 9.00% (0m 4s) 损失: 7.4101 Acquafredda / Polish ✗ (Italian)\n",
      "训练准确率: 0.7660, 验证准确率: 0.4270\n",
      "迭代 10000 10.00% (0m 4s) 损失: 1.0929 De santigo / Spanish ✗ (Portuguese)\n",
      "训练准确率: 0.8060, 验证准确率: 0.4250\n",
      "迭代 11000 11.00% (0m 5s) 损失: 0.1481 Thean / Chinese ✓\n",
      "训练准确率: 0.8330, 验证准确率: 0.4360\n",
      "迭代 12000 12.00% (0m 5s) 损失: 1.7736 Kan / Chinese ✗ (Dutch)\n",
      "训练准确率: 0.8300, 验证准确率: 0.3660\n",
      "迭代 13000 13.00% (0m 6s) 损失: 0.0369 Thao / Vietnamese ✓\n",
      "训练准确率: 0.8730, 验证准确率: 0.4190\n",
      "迭代 14000 14.00% (0m 6s) 损失: 0.4801 Ocaskova / Czech ✓\n",
      "训练准确率: 0.8260, 验证准确率: 0.4480\n",
      "迭代 15000 15.00% (0m 7s) 损失: 0.8391 Pawlak / Czech ✓\n",
      "训练准确率: 0.8410, 验证准确率: 0.4060\n",
      "迭代 16000 16.00% (0m 7s) 损失: 0.0676 Adamczak / Polish ✓\n",
      "训练准确率: 0.8480, 验证准确率: 0.3930\n",
      "迭代 17000 17.00% (0m 8s) 损失: 0.0986 Vinh / Vietnamese ✓\n",
      "训练准确率: 0.8230, 验证准确率: 0.4240\n",
      "迭代 18000 18.00% (0m 8s) 损失: 0.0911 Siew / Chinese ✓\n",
      "训练准确率: 0.8580, 验证准确率: 0.3980\n",
      "迭代 19000 19.00% (0m 9s) 损失: 0.3486 Muir / Scottish ✓\n",
      "训练准确率: 0.8540, 验证准确率: 0.3860\n",
      "迭代 20000 20.00% (0m 9s) 损失: 0.0935 Ra / Korean ✓\n",
      "训练准确率: 0.8600, 验证准确率: 0.3820\n",
      "迭代 21000 21.00% (0m 10s) 损失: 0.2253 Pawlak / Czech ✓\n",
      "训练准确率: 0.8620, 验证准确率: 0.3960\n",
      "迭代 22000 22.00% (0m 10s) 损失: 0.0777 Fumihiko / Japanese ✓\n",
      "训练准确率: 0.8610, 验证准确率: 0.4160\n",
      "迭代 23000 23.00% (0m 11s) 损失: 0.0208 Stevenson / Scottish ✓\n",
      "训练准确率: 0.8970, 验证准确率: 0.3940\n",
      "迭代 24000 24.00% (0m 11s) 损失: 0.7319 Lam / Vietnamese ✓\n",
      "训练准确率: 0.6470, 验证准确率: 0.3280\n",
      "迭代 25000 25.00% (0m 12s) 损失: 0.0973 Fonseca / Portuguese ✓\n",
      "训练准确率: 0.8140, 验证准确率: 0.3760\n",
      "迭代 26000 26.00% (0m 12s) 损失: 2.7967 Maher / German ✗ (English)\n",
      "训练准确率: 0.8090, 验证准确率: 0.3840\n",
      "迭代 27000 27.00% (0m 13s) 损失: 0.0880 Almeida / Portuguese ✓\n",
      "训练准确率: 0.7960, 验证准确率: 0.3730\n",
      "迭代 28000 28.00% (0m 13s) 损失: 1.6113 Kang / Scottish ✗ (Chinese)\n",
      "训练准确率: 0.8380, 验证准确率: 0.3880\n",
      "迭代 29000 29.00% (0m 14s) 损失: 3.8152 Laren / Korean ✗ (Dutch)\n",
      "训练准确率: 0.7020, 验证准确率: 0.3380\n",
      "迭代 30000 30.00% (0m 14s) 损失: 0.2416 Pantelakos / Greek ✓\n",
      "训练准确率: 0.8440, 验证准确率: 0.3580\n",
      "迭代 31000 31.00% (0m 15s) 损失: 0.4832 Dempko / Czech ✓\n",
      "训练准确率: 0.8420, 验证准确率: 0.3470\n",
      "迭代 32000 32.00% (0m 15s) 损失: 0.1009 Zha / Chinese ✓\n",
      "训练准确率: 0.8710, 验证准确率: 0.3780\n",
      "迭代 33000 33.00% (0m 15s) 损失: 0.1515 Ricci / Italian ✓\n",
      "训练准确率: 0.8680, 验证准确率: 0.3600\n",
      "迭代 34000 34.00% (0m 16s) 损失: 0.1776 Laar / Dutch ✓\n",
      "训练准确率: 0.8710, 验证准确率: 0.3800\n",
      "迭代 35000 35.00% (0m 16s) 损失: 0.1362 Dalianis / Greek ✓\n",
      "训练准确率: 0.8570, 验证准确率: 0.3700\n",
      "迭代 36000 36.00% (0m 17s) 损失: 0.0500 Miyamoto / Japanese ✓\n",
      "训练准确率: 0.8810, 验证准确率: 0.3940\n",
      "迭代 37000 37.00% (0m 17s) 损失: 0.0236 Armbruster / German ✓\n",
      "训练准确率: 0.8430, 验证准确率: 0.3790\n",
      "迭代 38000 38.00% (0m 18s) 损失: 1.0861 Tinsley / German ✗ (English)\n",
      "训练准确率: 0.8900, 验证准确率: 0.3600\n",
      "迭代 39000 39.00% (0m 18s) 损失: 0.0779 Zha / Chinese ✓\n",
      "训练准确率: 0.8900, 验证准确率: 0.3930\n",
      "迭代 40000 40.00% (0m 19s) 损失: 0.0424 Capello / Italian ✓\n",
      "训练准确率: 0.8910, 验证准确率: 0.3450\n",
      "迭代 41000 41.00% (0m 19s) 损失: 0.0045 Adamczak / Polish ✓\n",
      "训练准确率: 0.8600, 验证准确率: 0.3520\n",
      "迭代 42000 42.00% (0m 20s) 损失: 0.1311 Armati / Italian ✓\n",
      "训练准确率: 0.7360, 验证准确率: 0.3410\n",
      "迭代 43000 43.00% (0m 20s) 损失: 0.4503 Siew / Chinese ✓\n",
      "训练准确率: 0.8590, 验证准确率: 0.3660\n",
      "迭代 44000 44.00% (0m 21s) 损失: 0.3336 Close / Greek ✓\n",
      "训练准确率: 0.8730, 验证准确率: 0.3480\n",
      "迭代 45000 45.00% (0m 21s) 损失: 0.0458 Kwak / Korean ✓\n",
      "训练准确率: 0.8830, 验证准确率: 0.3440\n",
      "迭代 46000 46.00% (0m 22s) 损失: 0.0197 Acquati / Italian ✓\n",
      "训练准确率: 0.8910, 验证准确率: 0.3770\n",
      "迭代 47000 47.00% (0m 22s) 损失: 3.3321 Macclelland / Chinese ✗ (Irish)\n",
      "训练准确率: 0.8550, 验证准确率: 0.3700\n",
      "迭代 48000 48.00% (0m 23s) 损失: 2.0061 Michel / Dutch ✗ (Spanish)\n",
      "训练准确率: 0.8620, 验证准确率: 0.3630\n",
      "迭代 49000 49.00% (0m 23s) 损失: 0.0627 De palma / Italian ✓\n",
      "训练准确率: 0.8900, 验证准确率: 0.3810\n",
      "迭代 50000 50.00% (0m 24s) 损失: 1.2956 Funaki / Polish ✗ (Japanese)\n",
      "训练准确率: 0.8830, 验证准确率: 0.3600\n",
      "迭代 51000 51.00% (0m 24s) 损失: 0.0000 Romijnders / Dutch ✓\n",
      "训练准确率: 0.9210, 验证准确率: 0.3610\n",
      "迭代 52000 52.00% (0m 25s) 损失: 0.0839 Craig / Scottish ✓\n",
      "训练准确率: 0.8590, 验证准确率: 0.3740\n",
      "迭代 53000 53.00% (0m 25s) 损失: 0.1039 Vela / Spanish ✓\n",
      "训练准确率: 0.8960, 验证准确率: 0.3740\n",
      "迭代 54000 54.00% (0m 26s) 损失: 0.5400 Pole / English ✓\n",
      "训练准确率: 0.8150, 验证准确率: 0.3560\n",
      "迭代 55000 55.00% (0m 26s) 损失: 0.2031 Fabian / Polish ✓\n",
      "训练准确率: 0.9080, 验证准确率: 0.3710\n",
      "迭代 56000 56.00% (0m 27s) 损失: 0.3334 Zogby / Arabic ✓\n",
      "训练准确率: 0.8620, 验证准确率: 0.3630\n",
      "迭代 57000 57.00% (0m 27s) 损失: 0.2624 Reyer / French ✓\n",
      "训练准确率: 0.8990, 验证准确率: 0.3810\n",
      "迭代 58000 58.00% (0m 28s) 损失: 0.0941 Kwak / Korean ✓\n",
      "训练准确率: 0.9070, 验证准确率: 0.3840\n",
      "迭代 59000 59.00% (0m 28s) 损失: 1.2979 Abramtchuk / Italian ✗ (Russian)\n",
      "训练准确率: 0.8730, 验证准确率: 0.3570\n",
      "迭代 60000 60.00% (0m 29s) 损失: 0.2546 Lupo / Italian ✓\n",
      "训练准确率: 0.8760, 验证准确率: 0.3470\n",
      "迭代 61000 61.00% (0m 29s) 损失: 2.3110 Bata / Japanese ✗ (Arabic)\n",
      "训练准确率: 0.8990, 验证准确率: 0.3610\n",
      "迭代 62000 62.00% (0m 29s) 损失: 0.1658 Acciai / Italian ✓\n",
      "训练准确率: 0.8810, 验证准确率: 0.3310\n",
      "迭代 63000 63.00% (0m 30s) 损失: 0.2676 Vann / Dutch ✓\n",
      "训练准确率: 0.9060, 验证准确率: 0.3580\n",
      "迭代 64000 64.00% (0m 30s) 损失: 0.0948 Laar / Dutch ✓\n",
      "训练准确率: 0.8950, 验证准确率: 0.3430\n",
      "迭代 65000 65.00% (0m 31s) 损失: 0.0835 Craig / Scottish ✓\n",
      "训练准确率: 0.8710, 验证准确率: 0.3280\n",
      "迭代 66000 66.00% (0m 31s) 损失: 0.0815 Shadid / Arabic ✓\n",
      "训练准确率: 0.9060, 验证准确率: 0.3650\n",
      "迭代 67000 67.00% (0m 32s) 损失: 0.3072 Minami / Japanese ✓\n",
      "训练准确率: 0.8810, 验证准确率: 0.3410\n",
      "迭代 68000 68.00% (0m 32s) 损失: nan Kan / Czech ✗ (Dutch)\n",
      "训练准确率: 0.0560, 验证准确率: 0.0550\n",
      "迭代 69000 69.00% (0m 33s) 损失: nan Prchal / Czech ✓\n",
      "训练准确率: 0.0530, 验证准确率: 0.0460\n",
      "迭代 70000 70.00% (0m 33s) 损失: nan Nguyen / Czech ✗ (Vietnamese)\n",
      "训练准确率: 0.0460, 验证准确率: 0.0560\n",
      "迭代 71000 71.00% (0m 34s) 损失: nan Maneates / Czech ✗ (Greek)\n",
      "训练准确率: 0.0490, 验证准确率: 0.0540\n",
      "迭代 72000 72.00% (0m 34s) 损失: nan Devin / Czech ✗ (Irish)\n",
      "训练准确率: 0.0550, 验证准确率: 0.0610\n",
      "迭代 73000 73.00% (0m 35s) 损失: nan Bengochea / Czech ✗ (Spanish)\n",
      "训练准确率: 0.0490, 验证准确率: 0.0590\n",
      "迭代 74000 74.00% (0m 35s) 损失: nan Maes / Czech ✗ (Dutch)\n",
      "训练准确率: 0.0410, 验证准确率: 0.0520\n",
      "迭代 75000 75.00% (0m 36s) 损失: nan Henriques / Czech ✗ (Portuguese)\n",
      "训练准确率: 0.0570, 验证准确率: 0.0500\n",
      "迭代 76000 76.00% (0m 36s) 损失: nan Arrighi / Czech ✗ (Italian)\n",
      "训练准确率: 0.0600, 验证准确率: 0.0600\n",
      "迭代 77000 77.00% (0m 37s) 损失: nan Chu / Czech ✗ (Korean)\n",
      "训练准确率: 0.0630, 验证准确率: 0.0590\n",
      "迭代 78000 78.00% (0m 37s) 损失: nan Deushi / Czech ✗ (Japanese)\n",
      "训练准确率: 0.0560, 验证准确率: 0.0680\n",
      "迭代 79000 79.00% (0m 38s) 损失: nan Moghadam / Czech ✗ (Arabic)\n",
      "训练准确率: 0.0460, 验证准确率: 0.0580\n",
      "迭代 80000 80.00% (0m 38s) 损失: nan Maloof / Czech ✗ (Arabic)\n",
      "训练准确率: 0.0630, 验证准确率: 0.0390\n",
      "迭代 81000 81.00% (0m 39s) 损失: nan Mifsud / Czech ✗ (Arabic)\n",
      "训练准确率: 0.0500, 验证准确率: 0.0430\n",
      "迭代 82000 82.00% (0m 39s) 损失: nan Koumans / Czech ✗ (Dutch)\n",
      "训练准确率: 0.0570, 验证准确率: 0.0580\n",
      "迭代 83000 83.00% (0m 39s) 损失: nan Lam / Czech ✗ (Chinese)\n",
      "训练准确率: 0.0680, 验证准确率: 0.0520\n",
      "迭代 84000 84.00% (0m 40s) 损失: nan Sowka / Czech ✗ (Polish)\n",
      "训练准确率: 0.0650, 验证准确率: 0.0530\n",
      "迭代 85000 85.00% (0m 40s) 损失: nan Nuttall / Czech ✗ (English)\n",
      "训练准确率: 0.0430, 验证准确率: 0.0550\n",
      "迭代 86000 86.00% (0m 41s) 损失: nan Cino / Czech ✗ (Italian)\n",
      "训练准确率: 0.0520, 验证准确率: 0.0500\n",
      "迭代 87000 87.00% (0m 41s) 损失: nan Seeger / Czech ✗ (Dutch)\n",
      "训练准确率: 0.0510, 验证准确率: 0.0620\n",
      "迭代 88000 88.00% (0m 42s) 损失: nan Pantelakos / Czech ✗ (Greek)\n",
      "训练准确率: 0.0550, 验证准确率: 0.0500\n",
      "迭代 89000 89.00% (0m 42s) 损失: nan Stevenson / Czech ✗ (Scottish)\n",
      "训练准确率: 0.0500, 验证准确率: 0.0700\n",
      "迭代 90000 90.00% (0m 43s) 损失: nan Bonnay / Czech ✗ (French)\n",
      "训练准确率: 0.0510, 验证准确率: 0.0510\n",
      "迭代 91000 91.00% (0m 43s) 损失: nan Molostvov / Czech ✗ (Russian)\n",
      "训练准确率: 0.0630, 验证准确率: 0.0530\n",
      "迭代 92000 92.00% (0m 44s) 损失: nan Panders / Czech ✗ (Dutch)\n",
      "训练准确率: 0.0600, 验证准确率: 0.0520\n",
      "迭代 93000 93.00% (0m 44s) 损失: nan Fonseca / Czech ✗ (Portuguese)\n",
      "训练准确率: 0.0700, 验证准确率: 0.0560\n",
      "迭代 94000 94.00% (0m 45s) 损失: nan Ding / Czech ✗ (Chinese)\n",
      "训练准确率: 0.0500, 验证准确率: 0.0590\n",
      "迭代 95000 95.00% (0m 45s) 损失: nan Aziz / Czech ✗ (English)\n",
      "训练准确率: 0.0540, 验证准确率: 0.0480\n",
      "迭代 96000 96.00% (0m 46s) 损失: nan Mckenzie / Czech ✗ (Scottish)\n",
      "训练准确率: 0.0760, 验证准确率: 0.0600\n",
      "迭代 97000 97.00% (0m 46s) 损失: nan Mravin / Czech ✗ (Russian)\n",
      "训练准确率: 0.0520, 验证准确率: 0.0470\n",
      "迭代 98000 98.00% (0m 47s) 损失: nan Tsoumada / Czech ✗ (Greek)\n",
      "训练准确率: 0.0500, 验证准确率: 0.0410\n",
      "迭代 99000 99.00% (0m 47s) 损失: nan Herbert / Czech ✗ (English)\n",
      "训练准确率: 0.0570, 验证准确率: 0.0510\n",
      "迭代 100000 100.00% (0m 48s) 损失: nan Martin / Czech ✗ (German)\n",
      "训练准确率: 0.0610, 验证准确率: 0.0490\n"
     ]
    }
   ],
   "source": [
    "import time\n",
    "import math\n",
    "\n",
    "n_iters = 100000\n",
    "print_every = 5000\n",
    "plot_every = 1000\n",
    "\n",
    "\n",
    "\n",
    "# Keep track of losses for plotting\n",
    "current_loss = 0\n",
    "all_losses = []\n",
    "\n",
    "def timeSince(since):\n",
    "    now = time.time()\n",
    "    s = now - since\n",
    "    m = math.floor(s / 60)\n",
    "    s -= m * 60\n",
    "    return '%dm %ds' % (m, s)\n",
    "\n",
    "start = time.time()\n",
    "\n",
    "for iter in range(1, n_iters + 1):\n",
    "    category, line, category_tensor, line_tensor = randomTrainingExample()\n",
    "    output, loss = train(category_tensor, line_tensor)\n",
    "    current_loss += loss\n",
    "\n",
    "    # Print iter number, loss, name and guess\n",
    "    if iter % print_every == 0:\n",
    "        guess, guess_i = categoryFromOutput(output[-1])\n",
    "        correct = '✓' if guess == category else '✗ (%s)' % category\n",
    "        print('%d %d%% (%s) %.4f %s / %s %s' % (iter, iter / n_iters * 100, timeSince(start), loss, line, guess, correct))\n",
    "\n",
    "    # Add current loss avg to list of losses\n",
    "    if iter % plot_every == 0:\n",
    "        all_losses.append(current_loss / plot_every)\n",
    "        current_loss = 0"
   ]
  },
  {
   "cell_type": "markdown",
   "id": "9919c0b4",
   "metadata": {},
   "source": [
    "### Plotting the Results\n",
    "Plotting the historical loss from all_losses shows the network learning:"
   ]
  },
  {
   "cell_type": "code",
   "execution_count": null,
   "id": "5533ea72",
   "metadata": {},
   "outputs": [
    {
     "name": "stderr",
     "output_type": "stream",
     "text": [
      "/var/folders/54/1b_2l3z54lnbc758prwytbs40000gn/T/ipykernel_82387/1880753744.py:20: UserWarning: Glyph 36845 (\\N{CJK UNIFIED IDEOGRAPH-8FED}) missing from font(s) DejaVu Sans.\n",
      "  plt.tight_layout()\n",
      "/var/folders/54/1b_2l3z54lnbc758prwytbs40000gn/T/ipykernel_82387/1880753744.py:20: UserWarning: Glyph 20195 (\\N{CJK UNIFIED IDEOGRAPH-4EE3}) missing from font(s) DejaVu Sans.\n",
      "  plt.tight_layout()\n",
      "/var/folders/54/1b_2l3z54lnbc758prwytbs40000gn/T/ipykernel_82387/1880753744.py:20: UserWarning: Glyph 27425 (\\N{CJK UNIFIED IDEOGRAPH-6B21}) missing from font(s) DejaVu Sans.\n",
      "  plt.tight_layout()\n",
      "/var/folders/54/1b_2l3z54lnbc758prwytbs40000gn/T/ipykernel_82387/1880753744.py:20: UserWarning: Glyph 25968 (\\N{CJK UNIFIED IDEOGRAPH-6570}) missing from font(s) DejaVu Sans.\n",
      "  plt.tight_layout()\n",
      "/var/folders/54/1b_2l3z54lnbc758prwytbs40000gn/T/ipykernel_82387/1880753744.py:20: UserWarning: Glyph 25439 (\\N{CJK UNIFIED IDEOGRAPH-635F}) missing from font(s) DejaVu Sans.\n",
      "  plt.tight_layout()\n",
      "/var/folders/54/1b_2l3z54lnbc758prwytbs40000gn/T/ipykernel_82387/1880753744.py:20: UserWarning: Glyph 22833 (\\N{CJK UNIFIED IDEOGRAPH-5931}) missing from font(s) DejaVu Sans.\n",
      "  plt.tight_layout()\n",
      "/var/folders/54/1b_2l3z54lnbc758prwytbs40000gn/T/ipykernel_82387/1880753744.py:20: UserWarning: Glyph 26354 (\\N{CJK UNIFIED IDEOGRAPH-66F2}) missing from font(s) DejaVu Sans.\n",
      "  plt.tight_layout()\n",
      "/var/folders/54/1b_2l3z54lnbc758prwytbs40000gn/T/ipykernel_82387/1880753744.py:20: UserWarning: Glyph 32447 (\\N{CJK UNIFIED IDEOGRAPH-7EBF}) missing from font(s) DejaVu Sans.\n",
      "  plt.tight_layout()\n",
      "/var/folders/54/1b_2l3z54lnbc758prwytbs40000gn/T/ipykernel_82387/1880753744.py:20: UserWarning: Glyph 35757 (\\N{CJK UNIFIED IDEOGRAPH-8BAD}) missing from font(s) DejaVu Sans.\n",
      "  plt.tight_layout()\n",
      "/var/folders/54/1b_2l3z54lnbc758prwytbs40000gn/T/ipykernel_82387/1880753744.py:20: UserWarning: Glyph 32451 (\\N{CJK UNIFIED IDEOGRAPH-7EC3}) missing from font(s) DejaVu Sans.\n",
      "  plt.tight_layout()\n",
      "/var/folders/54/1b_2l3z54lnbc758prwytbs40000gn/T/ipykernel_82387/1880753744.py:20: UserWarning: Glyph 39564 (\\N{CJK UNIFIED IDEOGRAPH-9A8C}) missing from font(s) DejaVu Sans.\n",
      "  plt.tight_layout()\n",
      "/var/folders/54/1b_2l3z54lnbc758prwytbs40000gn/T/ipykernel_82387/1880753744.py:20: UserWarning: Glyph 35777 (\\N{CJK UNIFIED IDEOGRAPH-8BC1}) missing from font(s) DejaVu Sans.\n",
      "  plt.tight_layout()\n",
      "/var/folders/54/1b_2l3z54lnbc758prwytbs40000gn/T/ipykernel_82387/1880753744.py:20: UserWarning: Glyph 20934 (\\N{CJK UNIFIED IDEOGRAPH-51C6}) missing from font(s) DejaVu Sans.\n",
      "  plt.tight_layout()\n",
      "/var/folders/54/1b_2l3z54lnbc758prwytbs40000gn/T/ipykernel_82387/1880753744.py:20: UserWarning: Glyph 30830 (\\N{CJK UNIFIED IDEOGRAPH-786E}) missing from font(s) DejaVu Sans.\n",
      "  plt.tight_layout()\n",
      "/var/folders/54/1b_2l3z54lnbc758prwytbs40000gn/T/ipykernel_82387/1880753744.py:20: UserWarning: Glyph 29575 (\\N{CJK UNIFIED IDEOGRAPH-7387}) missing from font(s) DejaVu Sans.\n",
      "  plt.tight_layout()\n",
      "/Applications/anaconda3/envs/deepl/lib/python3.11/site-packages/IPython/core/pylabtools.py:170: UserWarning: Glyph 25439 (\\N{CJK UNIFIED IDEOGRAPH-635F}) missing from font(s) DejaVu Sans.\n",
      "  fig.canvas.print_figure(bytes_io, **kw)\n",
      "/Applications/anaconda3/envs/deepl/lib/python3.11/site-packages/IPython/core/pylabtools.py:170: UserWarning: Glyph 22833 (\\N{CJK UNIFIED IDEOGRAPH-5931}) missing from font(s) DejaVu Sans.\n",
      "  fig.canvas.print_figure(bytes_io, **kw)\n",
      "/Applications/anaconda3/envs/deepl/lib/python3.11/site-packages/IPython/core/pylabtools.py:170: UserWarning: Glyph 26354 (\\N{CJK UNIFIED IDEOGRAPH-66F2}) missing from font(s) DejaVu Sans.\n",
      "  fig.canvas.print_figure(bytes_io, **kw)\n",
      "/Applications/anaconda3/envs/deepl/lib/python3.11/site-packages/IPython/core/pylabtools.py:170: UserWarning: Glyph 32447 (\\N{CJK UNIFIED IDEOGRAPH-7EBF}) missing from font(s) DejaVu Sans.\n",
      "  fig.canvas.print_figure(bytes_io, **kw)\n",
      "/Applications/anaconda3/envs/deepl/lib/python3.11/site-packages/IPython/core/pylabtools.py:170: UserWarning: Glyph 36845 (\\N{CJK UNIFIED IDEOGRAPH-8FED}) missing from font(s) DejaVu Sans.\n",
      "  fig.canvas.print_figure(bytes_io, **kw)\n",
      "/Applications/anaconda3/envs/deepl/lib/python3.11/site-packages/IPython/core/pylabtools.py:170: UserWarning: Glyph 20195 (\\N{CJK UNIFIED IDEOGRAPH-4EE3}) missing from font(s) DejaVu Sans.\n",
      "  fig.canvas.print_figure(bytes_io, **kw)\n",
      "/Applications/anaconda3/envs/deepl/lib/python3.11/site-packages/IPython/core/pylabtools.py:170: UserWarning: Glyph 27425 (\\N{CJK UNIFIED IDEOGRAPH-6B21}) missing from font(s) DejaVu Sans.\n",
      "  fig.canvas.print_figure(bytes_io, **kw)\n",
      "/Applications/anaconda3/envs/deepl/lib/python3.11/site-packages/IPython/core/pylabtools.py:170: UserWarning: Glyph 25968 (\\N{CJK UNIFIED IDEOGRAPH-6570}) missing from font(s) DejaVu Sans.\n",
      "  fig.canvas.print_figure(bytes_io, **kw)\n",
      "/Applications/anaconda3/envs/deepl/lib/python3.11/site-packages/IPython/core/pylabtools.py:170: UserWarning: Glyph 35757 (\\N{CJK UNIFIED IDEOGRAPH-8BAD}) missing from font(s) DejaVu Sans.\n",
      "  fig.canvas.print_figure(bytes_io, **kw)\n",
      "/Applications/anaconda3/envs/deepl/lib/python3.11/site-packages/IPython/core/pylabtools.py:170: UserWarning: Glyph 32451 (\\N{CJK UNIFIED IDEOGRAPH-7EC3}) missing from font(s) DejaVu Sans.\n",
      "  fig.canvas.print_figure(bytes_io, **kw)\n",
      "/Applications/anaconda3/envs/deepl/lib/python3.11/site-packages/IPython/core/pylabtools.py:170: UserWarning: Glyph 39564 (\\N{CJK UNIFIED IDEOGRAPH-9A8C}) missing from font(s) DejaVu Sans.\n",
      "  fig.canvas.print_figure(bytes_io, **kw)\n",
      "/Applications/anaconda3/envs/deepl/lib/python3.11/site-packages/IPython/core/pylabtools.py:170: UserWarning: Glyph 35777 (\\N{CJK UNIFIED IDEOGRAPH-8BC1}) missing from font(s) DejaVu Sans.\n",
      "  fig.canvas.print_figure(bytes_io, **kw)\n",
      "/Applications/anaconda3/envs/deepl/lib/python3.11/site-packages/IPython/core/pylabtools.py:170: UserWarning: Glyph 20934 (\\N{CJK UNIFIED IDEOGRAPH-51C6}) missing from font(s) DejaVu Sans.\n",
      "  fig.canvas.print_figure(bytes_io, **kw)\n",
      "/Applications/anaconda3/envs/deepl/lib/python3.11/site-packages/IPython/core/pylabtools.py:170: UserWarning: Glyph 30830 (\\N{CJK UNIFIED IDEOGRAPH-786E}) missing from font(s) DejaVu Sans.\n",
      "  fig.canvas.print_figure(bytes_io, **kw)\n",
      "/Applications/anaconda3/envs/deepl/lib/python3.11/site-packages/IPython/core/pylabtools.py:170: UserWarning: Glyph 29575 (\\N{CJK UNIFIED IDEOGRAPH-7387}) missing from font(s) DejaVu Sans.\n",
      "  fig.canvas.print_figure(bytes_io, **kw)\n"
     ]
    },
    {
     "data": {
      "image/png": "[encoded data removed]",
      "text/plain": [
       "<Figure size 1200x500 with 2 Axes>"
      ]
     },
     "metadata": {},
     "output_type": "display_data"
    }
   ],
   "source": [
    "import matplotlib.pyplot as plt\n",
    "import matplotlib.ticker as ticker\n",
    "\n",
    "plt.figure()\n",
    "plt.plot(all_losses)"
   ]
  },
  {
   "cell_type": "markdown",
   "id": "44d8a092",
   "metadata": {},
   "source": [
    "### Evaluating the Results\n",
    "To see how well the network performs on different categories, we will create a confusion matrix, indicating for every actual language (rows) which language the network guesses (columns). To calculate the confusion matrix a bunch of samples are run through the network with evaluate(), which is the same as train() minus the backprop."
   ]
  },
  {
   "cell_type": "code",
   "execution_count": 13,
   "id": "71e6c595",
   "metadata": {
    "scrolled": true
   },
   "outputs": [
    {
     "name": "stderr",
     "output_type": "stream",
     "text": [
      "/var/folders/54/1b_2l3z54lnbc758prwytbs40000gn/T/ipykernel_82387/478124290.py:43: UserWarning: set_ticklabels() should only be used with a fixed number of ticks, i.e. after set_ticks() or using a FixedLocator.\n",
      "  ax.set_xticklabels([''] + all_categories, rotation=90)\n",
      "/var/folders/54/1b_2l3z54lnbc758prwytbs40000gn/T/ipykernel_82387/478124290.py:44: UserWarning: set_ticklabels() should only be used with a fixed number of ticks, i.e. after set_ticks() or using a FixedLocator.\n",
      "  ax.set_yticklabels([''] + all_categories)\n"
     ]
    },
    {
     "data": {
      "image/png": "[encoded data removed]",
      "text/plain": [
       "<Figure size 640x480 with 2 Axes>"
      ]
     },
     "metadata": {},
     "output_type": "display_data"
    }
   ],
   "source": [
    "import numpy\n",
    "%matplotlib inline\n",
    "# Keep track of correct guesses in a confusion matrix\n",
    "confusion = torch.zeros(n_categories, n_categories)\n",
    "n_confusion = 10000\n",
    "\n",
    "# Just return an output given a line\n",
    "# def evaluate(line_tensor):\n",
    "#     h0, c0 = rnn.initHidden()\n",
    "\n",
    "# #     for i in range(line_tensor.size()[0]):\n",
    "#     output = rnn(line_tensor, h0, c0)\n",
    "\n",
    "#     return output[-1]\n",
    "def evaluate(line_tensor):\n",
    "    with torch.no_grad():                 # 评估阶段不算梯度\n",
    "        hidden = rnn.initHidden()         # 只有 h\n",
    "\n",
    "        for i in range(line_tensor.size(0)):      # 按时间步送入\n",
    "            output, hidden = rnn(line_tensor[i], hidden)\n",
    "\n",
    "    return output                         # 最后一步的输出\n",
    "\n",
    "# Go through a bunch of examples and record which are correctly guessed\n",
    "for i in range(n_confusion):\n",
    "    category, line, category_tensor, line_tensor = randomTrainingExample()\n",
    "    output = evaluate(line_tensor)\n",
    "    guess, guess_i = categoryFromOutput(output)\n",
    "    category_i = all_categories.index(category)\n",
    "    confusion[category_i][guess_i] += 1\n",
    "\n",
    "# Normalize by dividing every row by its sum\n",
    "for i in range(n_categories):\n",
    "    confusion[i] = confusion[i] / confusion[i].sum()\n",
    "\n",
    "# Set up plot\n",
    "fig = plt.figure()\n",
    "ax = fig.add_subplot(111)\n",
    "cax = ax.matshow(confusion.numpy())\n",
    "fig.colorbar(cax)\n",
    "\n",
    "# Set up axes\n",
    "ax.set_xticklabels([''] + all_categories, rotation=90)\n",
    "ax.set_yticklabels([''] + all_categories)\n",
    "\n",
    "# Force label at every tick\n",
    "ax.xaxis.set_major_locator(ticker.MultipleLocator(1))\n",
    "ax.yaxis.set_major_locator(ticker.MultipleLocator(1))\n",
    "\n",
    "# sphinx_gallery_thumbnail_number = 2\n",
    "plt.show()"
   ]
  },
  {
   "cell_type": "markdown",
   "id": "b65115e1",
   "metadata": {},
   "source": [
    "You can pick out bright spots off the main axis that show which languages it guesses incorrectly, e.g. Chinese for Korean, and Spanish for Italian. It seems to do very well with Greek, and very poorly with English (perhaps because of overlap with other languages)."
   ]
  },
  {
   "cell_type": "markdown",
   "id": "dfe1c01e",
   "metadata": {},
   "source": [
    "### Running on User Input"
   ]
  },
  {
   "cell_type": "code",
   "execution_count": 16,
   "id": "23a19ee4",
   "metadata": {},
   "outputs": [
    {
     "name": "stdout",
     "output_type": "stream",
     "text": [
      "\n",
      "> Dovesky\n",
      "(0.50) Czech\n",
      "(0.34) Russian\n",
      "(0.09) Polish\n",
      "\n",
      "> Jackson\n",
      "(0.37) English\n",
      "(0.22) Scottish\n",
      "(0.15) Dutch\n",
      "\n",
      "> Hou\n",
      "(0.34) Korean\n",
      "(0.29) Chinese\n",
      "(0.24) Vietnamese\n"
     ]
    }
   ],
   "source": [
    "import math\n",
    "import numpy as np\n",
    "\n",
    "def predict(input_line, n_predictions=3):\n",
    "    print('\\n> %s' % input_line)\n",
    "    with torch.no_grad():\n",
    "        output = evaluate(lineToTensor(input_line))\n",
    "\n",
    "        # Get top N categories\n",
    "        topv, topi = output.topk(n_predictions, 1, True)\n",
    "        predictions = []\n",
    "\n",
    "        for i in range(n_predictions):\n",
    "            value = topv[0][i].item()\n",
    "            category_index = topi[0][i].item()\n",
    "            print('(%.2f) %s' % (np.exp(value), all_categories[category_index]))\n",
    "            predictions.append([value, all_categories[category_index]])\n",
    "\n",
    "predict('Dovesky')\n",
    "predict('Jackson')\n",
    "predict('Hou')"
   ]
  },
  {
   "cell_type": "code",
   "execution_count": null,
   "id": "3a170e12",
   "metadata": {},
   "outputs": [],
   "source": []
  }
 ],
 "metadata": {
  "kernelspec": {
   "display_name": "deepl",
   "language": "python",
   "name": "python3"
  },
  "language_info": {
   "codemirror_mode": {
    "name": "ipython",
    "version": 3
   },
   "file_extension": ".py",
   "mimetype": "text/x-python",
   "name": "python",
   "nbconvert_exporter": "python",
   "pygments_lexer": "ipython3",
   "version": "3.11.11"
  }
 },
 "nbformat": 4,
 "nbformat_minor": 5
}
